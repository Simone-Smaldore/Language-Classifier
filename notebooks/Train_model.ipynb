{
 "cells": [
  {
   "cell_type": "code",
   "execution_count": 1,
   "id": "50f3a3f0",
   "metadata": {},
   "outputs": [],
   "source": [
    "import pandas as pd\n",
    "from sklearn.feature_extraction.text import CountVectorizer, TfidfVectorizer"
   ]
  },
  {
   "cell_type": "code",
   "execution_count": 2,
   "id": "0338de76",
   "metadata": {},
   "outputs": [],
   "source": [
    "PROCESSED_DATASET_FOLDER = '../data/processed'\n",
    "DATASET_CLEAN_LOCATION = f'{PROCESSED_DATASET_FOLDER}/Language Detection Clean.csv'\n",
    "DATASET_CLEAN_UNDERSAMPLING_LOCATION = f'{PROCESSED_DATASET_FOLDER}/Language Detection Clean Undersampling.csv'"
   ]
  },
  {
   "cell_type": "code",
   "execution_count": 3,
   "id": "b567ba5c",
   "metadata": {},
   "outputs": [],
   "source": [
    "df = pd.read_csv(DATASET_CLEAN_LOCATION)\n",
    "df_undersampling = pd.read_csv(DATASET_CLEAN_UNDERSAMPLING_LOCATION)"
   ]
  },
  {
   "cell_type": "code",
   "execution_count": 4,
   "id": "d135af47",
   "metadata": {},
   "outputs": [
    {
     "data": {
      "text/html": [
       "<div>\n",
       "<style scoped>\n",
       "    .dataframe tbody tr th:only-of-type {\n",
       "        vertical-align: middle;\n",
       "    }\n",
       "\n",
       "    .dataframe tbody tr th {\n",
       "        vertical-align: top;\n",
       "    }\n",
       "\n",
       "    .dataframe thead th {\n",
       "        text-align: right;\n",
       "    }\n",
       "</style>\n",
       "<table border=\"1\" class=\"dataframe\">\n",
       "  <thead>\n",
       "    <tr style=\"text-align: right;\">\n",
       "      <th></th>\n",
       "      <th>Text</th>\n",
       "      <th>Language</th>\n",
       "      <th>Tokens</th>\n",
       "    </tr>\n",
       "  </thead>\n",
       "  <tbody>\n",
       "    <tr>\n",
       "      <th>0</th>\n",
       "      <td>do you want to do something this weekend</td>\n",
       "      <td>English</td>\n",
       "      <td>['do', 'you', 'want', 'to', 'do', 'something',...</td>\n",
       "    </tr>\n",
       "    <tr>\n",
       "      <th>1</th>\n",
       "      <td>artificial neurons and edges typically have a ...</td>\n",
       "      <td>English</td>\n",
       "      <td>['artificial', 'neurons', 'and', 'edges', 'typ...</td>\n",
       "    </tr>\n",
       "    <tr>\n",
       "      <th>2</th>\n",
       "      <td>life may also be said to be simply the charact...</td>\n",
       "      <td>English</td>\n",
       "      <td>['life', 'may', 'also', 'be', 'said', 'to', 'b...</td>\n",
       "    </tr>\n",
       "    <tr>\n",
       "      <th>3</th>\n",
       "      <td>if somebody s crying and doesn t want it</td>\n",
       "      <td>English</td>\n",
       "      <td>['if', 'somebody', 's', 'crying', 'and', 'does...</td>\n",
       "    </tr>\n",
       "    <tr>\n",
       "      <th>4</th>\n",
       "      <td>there is also some gas plasma and dust and sma...</td>\n",
       "      <td>English</td>\n",
       "      <td>['there', 'is', 'also', 'some', 'gas', 'plasma...</td>\n",
       "    </tr>\n",
       "    <tr>\n",
       "      <th>...</th>\n",
       "      <td>...</td>\n",
       "      <td>...</td>\n",
       "      <td>...</td>\n",
       "    </tr>\n",
       "    <tr>\n",
       "      <th>1385</th>\n",
       "      <td>qual è stato il tuo errore ti diamo da mangiar...</td>\n",
       "      <td>Italian</td>\n",
       "      <td>['qual', 'è', 'stato', 'il', 'tuo', 'errore', ...</td>\n",
       "    </tr>\n",
       "    <tr>\n",
       "      <th>1386</th>\n",
       "      <td>narcisa ha cambiato i suoi modi in un primo mo...</td>\n",
       "      <td>Italian</td>\n",
       "      <td>['narcisa', 'ha', 'cambiato', 'i', 'suoi', 'mo...</td>\n",
       "    </tr>\n",
       "    <tr>\n",
       "      <th>1387</th>\n",
       "      <td>come il narcisismo di adesso marian ha detto a...</td>\n",
       "      <td>Italian</td>\n",
       "      <td>['come', 'il', 'narcisismo', 'di', 'adesso', '...</td>\n",
       "    </tr>\n",
       "    <tr>\n",
       "      <th>1388</th>\n",
       "      <td>immagino che non vorrebbe più pane d oro adess...</td>\n",
       "      <td>Italian</td>\n",
       "      <td>['immagino', 'che', 'non', 'vorrebbe', 'più', ...</td>\n",
       "    </tr>\n",
       "    <tr>\n",
       "      <th>1389</th>\n",
       "      <td>terry in realtà assomigli un po a quell angelo...</td>\n",
       "      <td>Italian</td>\n",
       "      <td>['terry', 'in', 'realtà', 'assomigli', 'un', '...</td>\n",
       "    </tr>\n",
       "  </tbody>\n",
       "</table>\n",
       "<p>1390 rows × 3 columns</p>\n",
       "</div>"
      ],
      "text/plain": [
       "                                                   Text Language  \\\n",
       "0              do you want to do something this weekend  English   \n",
       "1     artificial neurons and edges typically have a ...  English   \n",
       "2     life may also be said to be simply the charact...  English   \n",
       "3              if somebody s crying and doesn t want it  English   \n",
       "4     there is also some gas plasma and dust and sma...  English   \n",
       "...                                                 ...      ...   \n",
       "1385  qual è stato il tuo errore ti diamo da mangiar...  Italian   \n",
       "1386  narcisa ha cambiato i suoi modi in un primo mo...  Italian   \n",
       "1387  come il narcisismo di adesso marian ha detto a...  Italian   \n",
       "1388  immagino che non vorrebbe più pane d oro adess...  Italian   \n",
       "1389  terry in realtà assomigli un po a quell angelo...  Italian   \n",
       "\n",
       "                                                 Tokens  \n",
       "0     ['do', 'you', 'want', 'to', 'do', 'something',...  \n",
       "1     ['artificial', 'neurons', 'and', 'edges', 'typ...  \n",
       "2     ['life', 'may', 'also', 'be', 'said', 'to', 'b...  \n",
       "3     ['if', 'somebody', 's', 'crying', 'and', 'does...  \n",
       "4     ['there', 'is', 'also', 'some', 'gas', 'plasma...  \n",
       "...                                                 ...  \n",
       "1385  ['qual', 'è', 'stato', 'il', 'tuo', 'errore', ...  \n",
       "1386  ['narcisa', 'ha', 'cambiato', 'i', 'suoi', 'mo...  \n",
       "1387  ['come', 'il', 'narcisismo', 'di', 'adesso', '...  \n",
       "1388  ['immagino', 'che', 'non', 'vorrebbe', 'più', ...  \n",
       "1389  ['terry', 'in', 'realtà', 'assomigli', 'un', '...  \n",
       "\n",
       "[1390 rows x 3 columns]"
      ]
     },
     "execution_count": 4,
     "metadata": {},
     "output_type": "execute_result"
    }
   ],
   "source": [
    "df_undersampling"
   ]
  },
  {
   "cell_type": "code",
   "execution_count": 5,
   "id": "44bfa090",
   "metadata": {},
   "outputs": [],
   "source": [
    "vectorizer_bow = CountVectorizer()\n",
    "X_bow = vectorizer_bow.fit_transform(df['Text'])"
   ]
  },
  {
   "cell_type": "code",
   "execution_count": 6,
   "id": "148ef5b3",
   "metadata": {},
   "outputs": [
    {
     "name": "stdout",
     "output_type": "stream",
     "text": [
      "Shape del BoW: (2083, 8727)\n"
     ]
    }
   ],
   "source": [
    "print(\"Shape del BoW:\", X_bow.shape)"
   ]
  },
  {
   "cell_type": "code",
   "execution_count": null,
   "id": "ca3844fe",
   "metadata": {},
   "outputs": [],
   "source": [
    "bow_df = pd.DataFrame(X_bow.toarray(), columns=vectorizer_bow.get_feature_names_out())\n",
    "bow_df"
   ]
  },
  {
   "cell_type": "code",
   "execution_count": 9,
   "id": "1212c399",
   "metadata": {},
   "outputs": [],
   "source": [
    "tfidf_vectorizer = TfidfVectorizer()\n",
    "X_tfidf = tfidf_vectorizer.fit_transform(df['Text'])"
   ]
  },
  {
   "cell_type": "code",
   "execution_count": 16,
   "id": "caefd9bc",
   "metadata": {},
   "outputs": [
    {
     "data": {
      "text/html": [
       "<div>\n",
       "<style scoped>\n",
       "    .dataframe tbody tr th:only-of-type {\n",
       "        vertical-align: middle;\n",
       "    }\n",
       "\n",
       "    .dataframe tbody tr th {\n",
       "        vertical-align: top;\n",
       "    }\n",
       "\n",
       "    .dataframe thead th {\n",
       "        text-align: right;\n",
       "    }\n",
       "</style>\n",
       "<table border=\"1\" class=\"dataframe\">\n",
       "  <thead>\n",
       "    <tr style=\"text-align: right;\">\n",
       "      <th></th>\n",
       "      <th>and</th>\n",
       "    </tr>\n",
       "  </thead>\n",
       "  <tbody>\n",
       "    <tr>\n",
       "      <th>1</th>\n",
       "      <td>0.120530</td>\n",
       "    </tr>\n",
       "    <tr>\n",
       "      <th>4</th>\n",
       "      <td>0.130148</td>\n",
       "    </tr>\n",
       "    <tr>\n",
       "      <th>5</th>\n",
       "      <td>0.064511</td>\n",
       "    </tr>\n",
       "    <tr>\n",
       "      <th>6</th>\n",
       "      <td>0.055376</td>\n",
       "    </tr>\n",
       "    <tr>\n",
       "      <th>7</th>\n",
       "      <td>0.080042</td>\n",
       "    </tr>\n",
       "    <tr>\n",
       "      <th>...</th>\n",
       "      <td>...</td>\n",
       "    </tr>\n",
       "    <tr>\n",
       "      <th>1378</th>\n",
       "      <td>0.219811</td>\n",
       "    </tr>\n",
       "    <tr>\n",
       "      <th>1381</th>\n",
       "      <td>0.118840</td>\n",
       "    </tr>\n",
       "    <tr>\n",
       "      <th>1382</th>\n",
       "      <td>0.091211</td>\n",
       "    </tr>\n",
       "    <tr>\n",
       "      <th>1567</th>\n",
       "      <td>0.054988</td>\n",
       "    </tr>\n",
       "    <tr>\n",
       "      <th>1646</th>\n",
       "      <td>0.068539</td>\n",
       "    </tr>\n",
       "  </tbody>\n",
       "</table>\n",
       "<p>609 rows × 1 columns</p>\n",
       "</div>"
      ],
      "text/plain": [
       "           and\n",
       "1     0.120530\n",
       "4     0.130148\n",
       "5     0.064511\n",
       "6     0.055376\n",
       "7     0.080042\n",
       "...        ...\n",
       "1378  0.219811\n",
       "1381  0.118840\n",
       "1382  0.091211\n",
       "1567  0.054988\n",
       "1646  0.068539\n",
       "\n",
       "[609 rows x 1 columns]"
      ]
     },
     "execution_count": 16,
     "metadata": {},
     "output_type": "execute_result"
    }
   ],
   "source": [
    "df_tfidf = pd.DataFrame(X_tfidf.toarray(), columns=tfidf_vectorizer.get_feature_names_out())\n",
    "df_tfidf[df_tfidf['and'] > 0][['and']]"
   ]
  },
  {
   "cell_type": "code",
   "execution_count": null,
   "id": "7243389b",
   "metadata": {},
   "outputs": [],
   "source": []
  }
 ],
 "metadata": {
  "kernelspec": {
   "display_name": "Language Classifier",
   "language": "python",
   "name": "python3"
  },
  "language_info": {
   "codemirror_mode": {
    "name": "ipython",
    "version": 3
   },
   "file_extension": ".py",
   "mimetype": "text/x-python",
   "name": "python",
   "nbconvert_exporter": "python",
   "pygments_lexer": "ipython3",
   "version": "3.12.2"
  }
 },
 "nbformat": 4,
 "nbformat_minor": 5
}
