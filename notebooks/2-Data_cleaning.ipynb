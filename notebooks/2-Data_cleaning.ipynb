{
 "cells": [
  {
   "cell_type": "code",
   "execution_count": 1,
   "id": "ad49c564",
   "metadata": {},
   "outputs": [],
   "source": [
    "import unicodedata\n",
    "\n",
    "import matplotlib.pyplot as plt\n",
    "import pandas as pd\n",
    "import seaborn as sns\n",
    "from commons import DATASET_CLEAN_LOCATION, DATASET_CLEAN_UNDERSAMPLING_LOCATION, DATASET_LOCATION"
   ]
  },
  {
   "cell_type": "markdown",
   "id": "5c777fca",
   "metadata": {},
   "source": [
    "# Data Cleaning\n",
    "\n",
    "We import the dataset used in the data exploration phase and create two new columns containing the labels \"Italian\" and \"Not Italian\" and the associated label 1 and 0\n"
   ]
  },
  {
   "cell_type": "code",
   "execution_count": 2,
   "id": "0f829a7a",
   "metadata": {},
   "outputs": [],
   "source": [
    "df = pd.read_csv(DATASET_LOCATION)"
   ]
  },
  {
   "cell_type": "code",
   "execution_count": 3,
   "id": "ac30d66a",
   "metadata": {},
   "outputs": [],
   "source": [
    "df[\"Label Binary Language\"] = df[\"Language\"].apply(lambda x: \"Italian\" if x == \"Italian\" else \"Not Italian\")\n",
    "df[\"Binary Language\"] = df[\"Language\"].apply(lambda x: 1 if x == \"Italian\" else 0)"
   ]
  },
  {
   "cell_type": "markdown",
   "id": "b0e19ebc",
   "metadata": {},
   "source": [
    "The function `clean_text_keep_accents` is used within the main cleaning pipeline to filter out unwanted Unicode characters that the primary cleaning function might miss.\n",
    "\n",
    "Specifically, it removes all special characters except letters (including accented characters), numbers, and whitespace. It preserves accented letters by checking Unicode categories starting with \"L\" (letters) and \"N\" (numbers), while excluding characters categorized as modifier letters and punctuation. This ensures that important accented characters remain intact for languages like Italian, while unwanted symbols and special characters are removed.\n"
   ]
  },
  {
   "cell_type": "code",
   "execution_count": 4,
   "id": "abea67ea",
   "metadata": {},
   "outputs": [],
   "source": [
    "def clean_text_keep_accents(text: str) -> str:\n",
    "    \"\"\"\n",
    "    Clean a string by removing special characters while preserving accents.\n",
    "\n",
    "    This function removes all characters from the input string except letters,\n",
    "    numbers, and whitespace. It retains accented characters and strips out\n",
    "    special symbols, including modifier letters and punctuation.\n",
    "\n",
    "    Args:\n",
    "        text (str): The input text string to be cleaned.\n",
    "\n",
    "    Returns:\n",
    "        str: The cleaned text with accents preserved and special characters removed.\n",
    "\n",
    "    \"\"\"\n",
    "    return \"\".join(\n",
    "        c for c in text\n",
    "        if (\n",
    "            unicodedata.category(c).startswith((\"L\", \"N\")) or c.isspace()\n",
    "        )\n",
    "        and not unicodedata.name(c, \"\").startswith(\"MODIFIER\")\n",
    "    )"
   ]
  },
  {
   "cell_type": "markdown",
   "id": "18bc2344",
   "metadata": {},
   "source": [
    "This function `clean_text` performs a series of preprocessing steps to clean and normalize the input text:\n",
    "\n",
    "- Converts the entire text to lowercase to ensure uniformity.\n",
    "- Replaces apostrophes with spaces to prevent contractions (e.g., \"l'uomo\" becomes two separate tokens: \"l\" and \"uomo\").\n",
    "- Removes all digits from the text.\n",
    "- Keeps only alphanumeric characters and whitespace, removing other punctuation.\n",
    "- Cleans remaining Unicode characters by calling `clean_text_keep_accents`, which preserves accented characters while removing unwanted symbols.\n",
    "- Normalizes whitespace by collapsing multiple spaces into a single space, ensuring consistent token separation.\n"
   ]
  },
  {
   "cell_type": "code",
   "execution_count": 5,
   "id": "60135d6c",
   "metadata": {},
   "outputs": [],
   "source": [
    "def clean_text(text: str) -> str:\n",
    "    \"\"\"\n",
    "    Clean and normalizes a text string by lowercasing, removing digits, and stripping punctuation.\n",
    "\n",
    "    This function performs several text preprocessing steps:\n",
    "    - Converts all characters to lowercase.\n",
    "    - Replaces apostrophes with spaces.\n",
    "    - Removes all digits.\n",
    "    - Keeps only alphanumeric characters and whitespace.\n",
    "    - Cleans remaining Unicode characters while preserving accents (via `clean_text_keep_accents`).\n",
    "    - Normalizes whitespace to ensure consistent spacing.\n",
    "\n",
    "    Args:\n",
    "        text (str): The input text string to be cleaned.\n",
    "\n",
    "    Returns:\n",
    "        str: The cleaned and normalized text.\n",
    "\n",
    "    \"\"\"\n",
    "    text = text.lower()\n",
    "    text = text.replace(\"'\", \" \")\n",
    "    text = \"\".join(c for c in text if not c.isdigit())\n",
    "    text = \"\".join(c for c in text if c.isalnum() or c.isspace())\n",
    "    text = clean_text_keep_accents(text)\n",
    "    return  \" \".join(text.split())"
   ]
  },
  {
   "cell_type": "markdown",
   "id": "c6360454",
   "metadata": {},
   "source": [
    "We apply the cleaning function to the dataset and save the cleaned version for the training phase.\n"
   ]
  },
  {
   "cell_type": "code",
   "execution_count": 6,
   "id": "6ce289ea",
   "metadata": {},
   "outputs": [],
   "source": [
    "df[\"Text_clean\"] = df[\"Text\"].apply(clean_text)\n",
    "df = df[df[\"Text_clean\"].str.strip().astype(bool)]"
   ]
  },
  {
   "cell_type": "code",
   "execution_count": 7,
   "id": "8236a49a",
   "metadata": {},
   "outputs": [],
   "source": [
    "df_clean = df[[\"Text_clean\", \"Binary Language\"]]\n",
    "df_clean = df_clean.rename(columns={\"Text_clean\": \"Text\"})"
   ]
  },
  {
   "cell_type": "code",
   "execution_count": 8,
   "id": "28ea10e0",
   "metadata": {},
   "outputs": [],
   "source": [
    "df_clean.to_csv(DATASET_CLEAN_LOCATION, index=False)"
   ]
  },
  {
   "cell_type": "markdown",
   "id": "70301784",
   "metadata": {},
   "source": [
    "We generate a balanced dataset via undersampling, maintaining a fixed ratio (`RATIO_ITALIAN_NOT_ITALIAN`) between Italian and non-Italian sentences.\n",
    "\n",
    "Procedure:\n",
    "- Calculate the word count (`Word_count`) for each sentence.\n",
    "- Split the dataset into Italian (`Binary Language == 1`) and non-Italian (`Binary Language == 0`) subsets.\n",
    "- Compute the proportion of each non-Italian language.\n",
    "- For each non-Italian language:\n",
    "  - Determine the number of sentences to sample proportionally to the number of Italian sentences and the fixed ratio.\n",
    "  - Divide sentences into 4 quartiles based on `Word_count`.\n",
    "  - Uniformly sample from each quartile.\n",
    "- Combine Italian sentences with the sampled non-Italian sentences to create the final balanced dataset.\n"
   ]
  },
  {
   "cell_type": "code",
   "execution_count": 9,
   "id": "d64a04bd",
   "metadata": {},
   "outputs": [],
   "source": [
    "RATIO_ITALIAN_NOT_ITALIAN = 1\n",
    "\n",
    "df[\"Word_count\"] = df[\"Text_clean\"].apply(lambda x: len(str(x).split()))\n",
    "df_it = df[df[\"Binary Language\"] == 1].copy()\n",
    "df_non_it = df[df[\"Binary Language\"] == 0].copy()\n",
    "n_italian = len(df_it)\n",
    "total_non_it = len(df_non_it)\n",
    "not_it_lang_proportion = df_non_it[\"Language\"].value_counts(normalize=True)\n",
    "non_it_samples = []\n",
    "for lang, perc in not_it_lang_proportion.items():\n",
    "    df_lang = df_non_it[df_non_it[\"Language\"] == lang].copy()\n",
    "    n_total_for_lang = round(perc * n_italian) * RATIO_ITALIAN_NOT_ITALIAN\n",
    "    df_lang[\"quartile\"] = pd.qcut(df_lang[\"Word_count\"], q=4, labels=False)\n",
    "    n_per_quartile = n_total_for_lang // 4\n",
    "    sampled_quartiles = []\n",
    "    for q in range(4):\n",
    "        group = df_lang[df_lang[\"quartile\"] == q]\n",
    "        sample_q = group.sample(n=min(n_per_quartile, len(group)), random_state=1999)\n",
    "        sampled_quartiles.append(sample_q)\n",
    "    lang_sampled = pd.concat(sampled_quartiles)\n",
    "    non_it_samples.append(lang_sampled)\n",
    "df_clean_undersampling = pd.concat([df_it, *non_it_samples]).reset_index(drop=True)"
   ]
  },
  {
   "cell_type": "markdown",
   "id": "6a095501",
   "metadata": {},
   "source": [
    "We reprint the language distribution to verify that the undersampling was performed correctly.\n"
   ]
  },
  {
   "cell_type": "code",
   "execution_count": 10,
   "id": "c988cedc",
   "metadata": {},
   "outputs": [
    {
     "data": {
      "image/png": "[encoded data removed]",
      "text/plain": [
       "<Figure size 640x480 with 1 Axes>"
      ]
     },
     "metadata": {},
     "output_type": "display_data"
    },
    {
     "name": "stdout",
     "output_type": "stream",
     "text": [
      "Binary Language\n",
      "1    0.510981\n",
      "0    0.489019\n",
      "Name: proportion, dtype: float64\n"
     ]
    }
   ],
   "source": [
    "sns.countplot(x=\"Label Binary Language\", data=df_clean_undersampling)\n",
    "plt.title(\"Binary Language Distribution\")\n",
    "plt.show()\n",
    "\n",
    "print(df_clean_undersampling[\"Binary Language\"].value_counts(normalize=True))"
   ]
  },
  {
   "cell_type": "markdown",
   "id": "06db9aaa",
   "metadata": {},
   "source": [
    "We also save this version of the dataset for the training phase.\n"
   ]
  },
  {
   "cell_type": "code",
   "execution_count": 11,
   "id": "0b542bce",
   "metadata": {},
   "outputs": [],
   "source": [
    "df_clean_undersampling = df_clean_undersampling[[\"Text_clean\", \"Binary Language\"]]\n",
    "df_clean_undersampling = df_clean_undersampling.rename(columns={\"Text_clean\": \"Text\"})"
   ]
  },
  {
   "cell_type": "code",
   "execution_count": 12,
   "id": "4d0ac501",
   "metadata": {},
   "outputs": [],
   "source": [
    "df_clean_undersampling.to_csv(DATASET_CLEAN_UNDERSAMPLING_LOCATION, index=False)"
   ]
  }
 ],
 "metadata": {
  "kernelspec": {
   "display_name": ".venv",
   "language": "python",
   "name": "python3"
  },
  "language_info": {
   "codemirror_mode": {
    "name": "ipython",
    "version": 3
   },
   "file_extension": ".py",
   "mimetype": "text/x-python",
   "name": "python",
   "nbconvert_exporter": "python",
   "pygments_lexer": "ipython3",
   "version": "3.12.2"
  }
 },
 "nbformat": 4,
 "nbformat_minor": 5
}
