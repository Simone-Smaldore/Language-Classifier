{
 "cells": [
  {
   "cell_type": "code",
   "execution_count": 9,
   "id": "679f2f46",
   "metadata": {},
   "outputs": [],
   "source": [
    "import pandas as pd"
   ]
  },
  {
   "cell_type": "code",
   "execution_count": 10,
   "id": "eee0ae01",
   "metadata": {},
   "outputs": [],
   "source": [
    "DATASET_LOCATION = './data/Language Detection.csv'\n",
    "df = pd.read_csv(DATASET_LOCATION)"
   ]
  },
  {
   "cell_type": "code",
   "execution_count": 11,
   "id": "5074b62d",
   "metadata": {},
   "outputs": [
    {
     "name": "stdout",
     "output_type": "stream",
     "text": [
      "(10337, 2)\n",
      "Index(['Text', 'Language'], dtype='object')\n",
      "['English' 'Malayalam' 'Hindi' 'Tamil' 'Portugeese' 'French' 'Dutch'\n",
      " 'Spanish' 'Greek' 'Russian' 'Danish' 'Italian' 'Turkish' 'Sweedish'\n",
      " 'Arabic' 'German' 'Kannada']\n"
     ]
    }
   ],
   "source": [
    "print(df.shape)\n",
    "print(df.columns)\n",
    "print(df[\"Language\"].unique())"
   ]
  },
  {
   "cell_type": "code",
   "execution_count": 12,
   "id": "6d503b1a",
   "metadata": {},
   "outputs": [],
   "source": [
    "df_iteng = df[(df['Language'] == 'Italian') | (df['Language'] == 'English')]"
   ]
  },
  {
   "cell_type": "code",
   "execution_count": 13,
   "id": "0df9b00e",
   "metadata": {},
   "outputs": [
    {
     "name": "stdout",
     "output_type": "stream",
     "text": [
      "(2083, 2)\n",
      "<class 'pandas.core.frame.DataFrame'>\n",
      "Index: 2083 entries, 0 to 7811\n",
      "Data columns (total 2 columns):\n",
      " #   Column    Non-Null Count  Dtype \n",
      "---  ------    --------------  ----- \n",
      " 0   Text      2083 non-null   object\n",
      " 1   Language  2083 non-null   object\n",
      "dtypes: object(2)\n",
      "memory usage: 48.8+ KB\n"
     ]
    },
    {
     "data": {
      "text/plain": [
       "Text        0\n",
       "Language    0\n",
       "dtype: int64"
      ]
     },
     "execution_count": 13,
     "metadata": {},
     "output_type": "execute_result"
    }
   ],
   "source": [
    "print(df_iteng.shape)\n",
    "df_iteng.info()\n",
    "df_iteng.isnull().sum()"
   ]
  },
  {
   "cell_type": "code",
   "execution_count": 14,
   "id": "a0367f76",
   "metadata": {},
   "outputs": [
    {
     "data": {
      "text/plain": [
       "7118    Il fattore di impatto (impact factor) di quest...\n",
       "Name: Text, dtype: object"
      ]
     },
     "execution_count": 14,
     "metadata": {},
     "output_type": "execute_result"
    }
   ],
   "source": [
    "df[df['Language'] == 'Italian'].head()[4:5].Text"
   ]
  },
  {
   "cell_type": "code",
   "execution_count": null,
   "id": "d1e7689c",
   "metadata": {},
   "outputs": [],
   "source": []
  },
  {
   "cell_type": "code",
   "execution_count": null,
   "id": "506cc47c",
   "metadata": {},
   "outputs": [],
   "source": []
  }
 ],
 "metadata": {
  "kernelspec": {
   "display_name": ".venv",
   "language": "python",
   "name": "python3"
  },
  "language_info": {
   "codemirror_mode": {
    "name": "ipython",
    "version": 3
   },
   "file_extension": ".py",
   "mimetype": "text/x-python",
   "name": "python",
   "nbconvert_exporter": "python",
   "pygments_lexer": "ipython3",
   "version": "3.12.2"
  }
 },
 "nbformat": 4,
 "nbformat_minor": 5
}
