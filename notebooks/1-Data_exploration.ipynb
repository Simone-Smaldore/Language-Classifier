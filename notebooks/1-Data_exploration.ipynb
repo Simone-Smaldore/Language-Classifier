{
 "cells": [
  {
   "cell_type": "code",
   "execution_count": 1,
   "id": "679f2f46",
   "metadata": {},
   "outputs": [],
   "source": [
    "from collections import Counter\n",
    "\n",
    "import matplotlib.pyplot as plt\n",
    "import pandas as pd\n",
    "import seaborn as sns\n",
    "from commons import DATASET_LOCATION"
   ]
  },
  {
   "cell_type": "markdown",
   "id": "5c706a95",
   "metadata": {},
   "source": [
    "# Data Exploration\n",
    "\n",
    "The dataset used in this project is sourced from [Kaggle](https://www.kaggle.com/datasets/basilb2s/language-detection). It contains data for language detection tasks, providing samples of text labeled with their corresponding languages.\n"
   ]
  },
  {
   "cell_type": "code",
   "execution_count": 2,
   "id": "eee0ae01",
   "metadata": {},
   "outputs": [],
   "source": [
    "df = pd.read_csv(DATASET_LOCATION)"
   ]
  },
  {
   "cell_type": "markdown",
   "id": "ef8f1c55",
   "metadata": {},
   "source": [
    "First, I analyze the dataset to determine how many different languages are present.\n"
   ]
  },
  {
   "cell_type": "code",
   "execution_count": 3,
   "id": "5074b62d",
   "metadata": {},
   "outputs": [
    {
     "name": "stdout",
     "output_type": "stream",
     "text": [
      "(10337, 2)\n",
      "Index(['Text', 'Language'], dtype='object')\n",
      "['English' 'Malayalam' 'Hindi' 'Tamil' 'Portugeese' 'French' 'Dutch'\n",
      " 'Spanish' 'Greek' 'Russian' 'Danish' 'Italian' 'Turkish' 'Sweedish'\n",
      " 'Arabic' 'German' 'Kannada']\n"
     ]
    }
   ],
   "source": [
    "print(df.shape)\n",
    "print(df.columns)\n",
    "print(df[\"Language\"].unique())"
   ]
  },
  {
   "cell_type": "markdown",
   "id": "350bfa3f",
   "metadata": {},
   "source": [
    "For this particular problem problem, we want to create a binary classifier to distinguish between Italian and English languages. Therefore, I filter the dataset to include only these two languages. "
   ]
  },
  {
   "cell_type": "code",
   "execution_count": 4,
   "id": "6d503b1a",
   "metadata": {},
   "outputs": [],
   "source": [
    "df_iteng = df[(df[\"Language\"] == \"Italian\") | (df[\"Language\"] == \"English\")].copy()"
   ]
  },
  {
   "cell_type": "markdown",
   "id": "a0bee5c7",
   "metadata": {},
   "source": [
    "I analyzed the filtered dataset.\n"
   ]
  },
  {
   "cell_type": "code",
   "execution_count": 5,
   "id": "95574122",
   "metadata": {},
   "outputs": [
    {
     "name": "stdout",
     "output_type": "stream",
     "text": [
      "(2083, 2)\n",
      "<class 'pandas.core.frame.DataFrame'>\n",
      "Index: 2083 entries, 0 to 7811\n",
      "Data columns (total 2 columns):\n",
      " #   Column    Non-Null Count  Dtype \n",
      "---  ------    --------------  ----- \n",
      " 0   Text      2083 non-null   object\n",
      " 1   Language  2083 non-null   object\n",
      "dtypes: object(2)\n",
      "memory usage: 48.8+ KB\n"
     ]
    },
    {
     "data": {
      "text/plain": [
       "Text        0\n",
       "Language    0\n",
       "dtype: int64"
      ]
     },
     "execution_count": 5,
     "metadata": {},
     "output_type": "execute_result"
    }
   ],
   "source": [
    "print(df_iteng.shape)\n",
    "df_iteng.info()\n",
    "df_iteng.isna().sum()"
   ]
  },
  {
   "cell_type": "markdown",
   "id": "e474cb2f",
   "metadata": {},
   "source": [
    "Now, we show the distribution of sentences to check if the classes are balanced. We observe that Italian sentences occur at a ratio of approximately 1 to 2 compared to English sentences.\n"
   ]
  },
  {
   "cell_type": "code",
   "execution_count": 6,
   "id": "d1e7689c",
   "metadata": {},
   "outputs": [
    {
     "data": {
      "image/png": "[encoded data removed]",
      "text/plain": [
       "<Figure size 640x480 with 1 Axes>"
      ]
     },
     "metadata": {},
     "output_type": "display_data"
    },
    {
     "name": "stdout",
     "output_type": "stream",
     "text": [
      "Language\n",
      "English    0.664906\n",
      "Italian    0.335094\n",
      "Name: proportion, dtype: float64\n"
     ]
    }
   ],
   "source": [
    "sns.countplot(x=\"Language\", data=df_iteng)\n",
    "plt.title(\"Label Distribution\")\n",
    "plt.show()\n",
    "\n",
    "print(df_iteng[\"Language\"].value_counts(normalize=True))"
   ]
  },
  {
   "cell_type": "markdown",
   "id": "21dc6d16",
   "metadata": {},
   "source": [
    "We calculate additional features to analyze the distribution of sentences based on their length and the number of words.\n"
   ]
  },
  {
   "cell_type": "code",
   "execution_count": null,
   "id": "506cc47c",
   "metadata": {},
   "outputs": [
    {
     "data": {
      "text/html": [
       "<div>\n",
       "<style scoped>\n",
       "    .dataframe tbody tr th:only-of-type {\n",
       "        vertical-align: middle;\n",
       "    }\n",
       "\n",
       "    .dataframe tbody tr th {\n",
       "        vertical-align: top;\n",
       "    }\n",
       "\n",
       "    .dataframe thead th {\n",
       "        text-align: right;\n",
       "    }\n",
       "</style>\n",
       "<table border=\"1\" class=\"dataframe\">\n",
       "  <thead>\n",
       "    <tr style=\"text-align: right;\">\n",
       "      <th></th>\n",
       "      <th>text_length</th>\n",
       "      <th>word_count</th>\n",
       "    </tr>\n",
       "  </thead>\n",
       "  <tbody>\n",
       "    <tr>\n",
       "      <th>count</th>\n",
       "      <td>2083.000000</td>\n",
       "      <td>2083.000000</td>\n",
       "    </tr>\n",
       "    <tr>\n",
       "      <th>mean</th>\n",
       "      <td>138.662506</td>\n",
       "      <td>22.010082</td>\n",
       "    </tr>\n",
       "    <tr>\n",
       "      <th>std</th>\n",
       "      <td>95.994266</td>\n",
       "      <td>15.032894</td>\n",
       "    </tr>\n",
       "    <tr>\n",
       "      <th>min</th>\n",
       "      <td>4.000000</td>\n",
       "      <td>1.000000</td>\n",
       "    </tr>\n",
       "    <tr>\n",
       "      <th>25%</th>\n",
       "      <td>75.000000</td>\n",
       "      <td>12.000000</td>\n",
       "    </tr>\n",
       "    <tr>\n",
       "      <th>50%</th>\n",
       "      <td>124.000000</td>\n",
       "      <td>20.000000</td>\n",
       "    </tr>\n",
       "    <tr>\n",
       "      <th>75%</th>\n",
       "      <td>185.000000</td>\n",
       "      <td>29.000000</td>\n",
       "    </tr>\n",
       "    <tr>\n",
       "      <th>max</th>\n",
       "      <td>1007.000000</td>\n",
       "      <td>144.000000</td>\n",
       "    </tr>\n",
       "  </tbody>\n",
       "</table>\n",
       "</div>"
      ],
      "text/plain": [
       "       text_length   word_count\n",
       "count  2083.000000  2083.000000\n",
       "mean    138.662506    22.010082\n",
       "std      95.994266    15.032894\n",
       "min       4.000000     1.000000\n",
       "25%      75.000000    12.000000\n",
       "50%     124.000000    20.000000\n",
       "75%     185.000000    29.000000\n",
       "max    1007.000000   144.000000"
      ]
     },
     "execution_count": 7,
     "metadata": {},
     "output_type": "execute_result"
    }
   ],
   "source": [
    "df_iteng[\"text_length\"] = df_iteng[\"Text\"].apply(len)\n",
    "df_iteng[\"word_count\"] = df_iteng[\"Text\"].apply(lambda x: len(str(x).split()))\n",
    "\n",
    "df_iteng[[\"text_length\", \"word_count\"]].describe()"
   ]
  },
  {
   "cell_type": "markdown",
   "id": "96081785",
   "metadata": {},
   "source": [
    "\n",
    "\n",
    "To verify the lengths of the sentences, it is important to note that for very short sentences, removing stopwords is not advisable, as it might leave us with too few features. To illustrate this, we show the distribution of sentences by word count and observe that there is still a non-negligible number of sentences with only a few words.\n"
   ]
  },
  {
   "cell_type": "code",
   "execution_count": null,
   "id": "1b456762",
   "metadata": {},
   "outputs": [
    {
     "data": {
      "image/png": "[encoded data removed]",
      "text/plain": [
       "<Figure size 640x480 with 1 Axes>"
      ]
     },
     "metadata": {},
     "output_type": "display_data"
    }
   ],
   "source": [
    "sns.histplot(data=df_iteng, x=\"word_count\", bins=\"auto\", hue=\"Language\", multiple=\"stack\")\n",
    "plt.title(\"Word count distribution by language\")\n",
    "plt.show()"
   ]
  },
  {
   "cell_type": "markdown",
   "id": "3cc5be0d",
   "metadata": {},
   "source": [
    "For a more in-depth analysis, we extract the 10 most frequent words for each language along with their respective frequencies. We observe the presence of stopwords among the most frequent words. Therefore, during the data cleaning phase, we will avoid removing them.\n"
   ]
  },
  {
   "cell_type": "code",
   "execution_count": null,
   "id": "12150c8e",
   "metadata": {},
   "outputs": [
    {
     "name": "stdout",
     "output_type": "stream",
     "text": [
      "Top italian words: [('di', 676), ('e', 369), ('che', 324), ('in', 278), ('è', 252), ('la', 241), ('un', 228), ('il', 225), ('a', 196), ('non', 186)]\n",
      "Top wnglish words: [('the', 1545), ('of', 1025), ('and', 826), ('to', 740), ('a', 725), ('in', 672), ('is', 401), ('that', 372), ('you', 302), ('as', 272)]\n"
     ]
    }
   ],
   "source": [
    "def get_top_words(df: pd.DataFrame, language: str, n: int=10) -> list[tuple[str, int]]:\n",
    "    \"\"\"\n",
    "    Return the top N most frequent words in a dataset for a specified language.\n",
    "\n",
    "    This function filters the DataFrame by the given language, tokenizes the text\n",
    "    data by splitting on spaces (after lowercasing), and returns the `n` most\n",
    "    common words along with their frequencies.\n",
    "\n",
    "    Args:\n",
    "        df (pd.DataFrame): The input DataFrame containing at least 'Language' and 'Text' columns.\n",
    "        language (str): The language to filter the DataFrame by.\n",
    "        n (int, optional): The number of top words to return. Defaults to 10.\n",
    "\n",
    "    Returns:\n",
    "        list[tuple[str, int]]: A list of tuples containing the most frequent words and their counts.\n",
    "\n",
    "    \"\"\"\n",
    "    texts: pd.Series = df[df[\"Language\"] == language][\"Text\"]\n",
    "    words: list[str] = \" \".join(texts).lower().split()\n",
    "    return Counter(words).most_common(n)\n",
    "\n",
    "\n",
    "print(f\"Top italian words: {get_top_words(df_iteng, 'Italian')}\")\n",
    "print(f\"Top wnglish words: {get_top_words(df_iteng, 'English')}\")"
   ]
  }
 ],
 "metadata": {
  "kernelspec": {
   "display_name": ".venv",
   "language": "python",
   "name": "python3"
  },
  "language_info": {
   "codemirror_mode": {
    "name": "ipython",
    "version": 3
   },
   "file_extension": ".py",
   "mimetype": "text/x-python",
   "name": "python",
   "nbconvert_exporter": "python",
   "pygments_lexer": "ipython3",
   "version": "3.12.2"
  }
 },
 "nbformat": 4,
 "nbformat_minor": 5
}
